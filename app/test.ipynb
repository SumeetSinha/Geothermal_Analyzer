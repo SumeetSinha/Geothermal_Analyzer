{
 "cells": [
  {
   "cell_type": "code",
   "execution_count": 1,
   "id": "cc44176d",
   "metadata": {},
   "outputs": [],
   "source": [
    "# ######################################################\n",
    "# # get python version \n",
    "# ######################################################\n",
    "# from platform import python_version\n",
    "# python_version() \n",
    "# print(python_version())\n",
    "# ######################################################\n",
    "# # Get GOOGLE API and TOKEN from environmnetal variable\n",
    "# ######################################################\n",
    "# import os\n",
    "# CREDENTIALS = os.getenv('GOOGLE_CREDENTIALS')\n",
    "# TOKEN = os.environ.get('GOOGLE_TOKEN')\n",
    "\n",
    "# # write cedentials.json file\n",
    "# File = open(\"credentials.json\", \"w\")\n",
    "# File.write(CREDENTIALS)\n",
    "# File.close()\n",
    "\n",
    "# # write token.json file\n",
    "# File = open(\"token.json\", \"w\")\n",
    "# File.write(TOKEN)\n",
    "# File.close()\n",
    "\n",
    "# print(CREDENTIALS)\n",
    "# print(TOKEN)"
   ]
  },
  {
   "cell_type": "code",
   "execution_count": 3,
   "id": "8c5dd10a",
   "metadata": {
    "ExecuteTime": {
     "end_time": "2022-08-26T02:29:15.896805Z",
     "start_time": "2022-08-26T02:29:13.537881Z"
    }
   },
   "outputs": [],
   "source": [
    "######################################################\n",
    "# Import libraries\n",
    "######################################################\n",
    "import numpy as np\n",
    "import pandas as pd;\n",
    "from scipy import integrate\n",
    "import matplotlib.pyplot as plt\n",
    "import matplotlib.gridspec as gridspec\n",
    "from IPython.display import display\n",
    "import ipywidgets as widgets\n",
    "import IPython\n",
    "# import io\n",
    "# from googleapiclient.http import MediaIoBaseDownload\n",
    "# import shutil\n",
    "# import pathlib\n",
    "# from IPython.display import clear_output\n",
    "# import time\n",
    "# import scipy.io\n",
    "# import ipyspin\n",
    "\n",
    "\n",
    "######################################################\n",
    "# Handling some warning messages from matplotlib\n",
    "######################################################\n",
    "import warnings\n",
    "warnings.filterwarnings(\"ignore\")\n",
    "\n",
    "import logging\n",
    "logging.getLogger('matplotlib.font_manager').disabled = True\n",
    "\n",
    "# make matplotlib to use the Rplot style sheet\n",
    "plt.style.use('Rplot.mplstyle')\n",
    "%matplotlib inline\n",
    "plt.ioff()\n",
    "\n",
    "# update matplotlib style \n",
    "plt.rcParams.update({'font.size': 18})\n",
    "plt.rcParams['xtick.labelsize'] = 18 \n",
    "plt.rcParams['ytick.labelsize'] = 18 \n",
    "plt.rcParams['figure.titlesize'] = 20 "
   ]
  },
  {
   "cell_type": "markdown",
   "id": "4c65c20c",
   "metadata": {},
   "source": [
    "<center> <font size=\"6\"> <b> Geothermal Analyzer </b></font> <a href=\"https://github.com/SumeetSinha/Geothermal_Analyzer#readme\"  target=\"_blank\">usage</a>\n",
    "</center> "
   ]
  },
  {
   "cell_type": "code",
   "execution_count": 5,
   "id": "8302f26e",
   "metadata": {
    "scrolled": false
   },
   "outputs": [
    {
     "data": {
      "application/vnd.jupyter.widget-view+json": {
       "model_id": "60f155605c04428ea4a00cc5f10fbcdc",
       "version_major": 2,
       "version_minor": 0
      },
      "text/plain": [
       "IntSlider(value=7, continuous_update=False, description='Test:', max=10)"
      ]
     },
     "metadata": {},
     "output_type": "display_data"
    }
   ],
   "source": [
    "import ipywidgets as widgets\n",
    "Intslider = widgets.IntSlider(\n",
    "    value=7,\n",
    "    min=0,\n",
    "    max=10,\n",
    "    step=1,\n",
    "    description='Test:',\n",
    "    disabled=False,\n",
    "    continuous_update=False,\n",
    "    orientation='horizontal',\n",
    "    readout=True,\n",
    "    readout_format='d'\n",
    ")\n",
    "\n",
    "\n",
    "# display(widgets.HBox((Projects_Widget,BaseLine_Widget,SelectedData_Widget,Spinner_Widget,Synchronize_Widget,Update_Label_Widget)))\n",
    "# display(SensorPlot_Widget)\n",
    "# display(Time_Series_SensorPlot_Widget)\n",
    "# # func2()\n",
    "display(Intslider)"
   ]
  },
  {
   "cell_type": "code",
   "execution_count": null,
   "id": "2edad8fe",
   "metadata": {},
   "outputs": [],
   "source": []
  },
  {
   "cell_type": "code",
   "execution_count": null,
   "id": "4e3c4287",
   "metadata": {},
   "outputs": [],
   "source": []
  },
  {
   "cell_type": "code",
   "execution_count": null,
   "id": "b0629e9e",
   "metadata": {},
   "outputs": [],
   "source": []
  }
 ],
 "metadata": {
  "kernelspec": {
   "display_name": "Python 3 (ipykernel)",
   "language": "python",
   "name": "python3"
  },
  "language_info": {
   "codemirror_mode": {
    "name": "ipython",
    "version": 3
   },
   "file_extension": ".py",
   "mimetype": "text/x-python",
   "name": "python",
   "nbconvert_exporter": "python",
   "pygments_lexer": "ipython3",
   "version": "3.10.7"
  }
 },
 "nbformat": 4,
 "nbformat_minor": 5
}
